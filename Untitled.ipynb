{
 "cells": [
  {
   "cell_type": "code",
   "execution_count": 7,
   "metadata": {},
   "outputs": [
    {
     "data": {
      "text/plain": [
       "9"
      ]
     },
     "execution_count": 7,
     "metadata": {},
     "output_type": "execute_result"
    }
   ],
   "source": [
    "import numpy as np\n",
    "import random\n",
    "import math\n",
    "\n",
    "\n",
    "D = 8\n",
    "\n",
    "M = int(2**math.log(D + 1, 2))\n",
    "\n",
    "u = int(math.log(M, 2))\n",
    "\n",
    "L = np.zeros((M + 1, M))\n",
    "\n",
    "for a in range(1, M + 1):\n",
    "    \n",
    "    for k in range(1, u + 1):\n",
    "        \n",
    "        b = pow(2, k -1)\n",
    "        \n",
    "        L[a][b] = math.floor((a - 1)/pow(2, u - k)) % 2\n",
    "\n",
    "for a in range(1, M  + 1):\n",
    "    \n",
    "    for k in range(2, u + 1):\n",
    "        \n",
    "        b = pow(2, k -1)\n",
    "        \n",
    "        for s in range(1, b):\n",
    "            \n",
    "            L[a][b + s] = (L[a][s] + L[a][b]) % 2\n",
    "        \n",
    "L = np.piecewise(L, [L == 0, L == 1], [1, 2])\n",
    "L = L[1:, 1:]\n",
    "\n",
    "M"
   ]
  },
  {
   "cell_type": "code",
   "execution_count": null,
   "metadata": {},
   "outputs": [],
   "source": []
  },
  {
   "cell_type": "code",
   "execution_count": 1,
   "metadata": {},
   "outputs": [
    {
     "data": {
      "text/plain": [
       "array([[1, 2, 3],\n",
       "       [6, 7, 8]])"
      ]
     },
     "execution_count": 1,
     "metadata": {},
     "output_type": "execute_result"
    }
   ],
   "source": [
    "import numpy as np\n",
    "import random\n",
    "a = np.array([[1,2,3], [4,5,6]])\n",
    "b = np.array([6,7,8])\n",
    "\n",
    "a[1, :] = b[:]\n",
    "a"
   ]
  }
 ],
 "metadata": {
  "kernelspec": {
   "display_name": "Python 3",
   "language": "python",
   "name": "python3"
  },
  "language_info": {
   "codemirror_mode": {
    "name": "ipython",
    "version": 3
   },
   "file_extension": ".py",
   "mimetype": "text/x-python",
   "name": "python",
   "nbconvert_exporter": "python",
   "pygments_lexer": "ipython3",
   "version": "3.9.0"
  }
 },
 "nbformat": 4,
 "nbformat_minor": 4
}
