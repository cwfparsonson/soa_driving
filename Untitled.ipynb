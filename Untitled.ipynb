{
 "cells": [
  {
   "cell_type": "code",
   "execution_count": 1,
   "metadata": {},
   "outputs": [],
   "source": [
    "import numpy as np\n",
    "import pandas as pd \n",
    "from collections import defaultdict"
   ]
  },
  {
   "cell_type": "code",
   "execution_count": 47,
   "metadata": {},
   "outputs": [],
   "source": [
    "SOA = defaultdict(list)\n",
    "a1 = np.array([1, 2, 3])\n",
    "a3 = np.tile(a1, (2,1))\n",
    "a2 = np.array([1.1, 2.2, 3.3])\n",
    "a = np.array([[1, 2, 3], [1.1, 2.2, 3.3]])\n",
    "SOA[0]=np.array(a)\n",
    "SOA[0][0] += a[1]"
   ]
  },
  {
   "cell_type": "code",
   "execution_count": 48,
   "metadata": {},
   "outputs": [
    {
     "data": {
      "text/plain": [
       "array([[1, 2, 3],\n",
       "       [1, 2, 3]])"
      ]
     },
     "execution_count": 48,
     "metadata": {},
     "output_type": "execute_result"
    }
   ],
   "source": [
    "a3"
   ]
  },
  {
   "cell_type": "code",
   "execution_count": 8,
   "metadata": {},
   "outputs": [],
   "source": [
    "a = np.zeros((2,3))\n",
    "\n",
    "SOA = defaultdict(list)\n",
    "x = np.zeros((3, 2))\n",
    "\n",
    "\n",
    "for i in range(3):\n",
    "    for j in range(2):\n",
    "        SOA[i].append(np.array(x[i]))\n",
    "        \n",
    "SOA[2][1][1] = 1"
   ]
  },
  {
   "cell_type": "code",
   "execution_count": 9,
   "metadata": {},
   "outputs": [],
   "source": [
    "for i in range(3):\n",
    "    for j in range(2):\n",
    "        for g in range(2):\n",
    "            SOA[i][j][g] = random.random()"
   ]
  },
  {
   "cell_type": "code",
   "execution_count": 10,
   "metadata": {},
   "outputs": [
    {
     "data": {
      "text/html": [
       "<div>\n",
       "<style scoped>\n",
       "    .dataframe tbody tr th:only-of-type {\n",
       "        vertical-align: middle;\n",
       "    }\n",
       "\n",
       "    .dataframe tbody tr th {\n",
       "        vertical-align: top;\n",
       "    }\n",
       "\n",
       "    .dataframe thead th {\n",
       "        text-align: right;\n",
       "    }\n",
       "</style>\n",
       "<table border=\"1\" class=\"dataframe\">\n",
       "  <thead>\n",
       "    <tr style=\"text-align: right;\">\n",
       "      <th></th>\n",
       "      <th>0</th>\n",
       "      <th>1</th>\n",
       "      <th>2</th>\n",
       "    </tr>\n",
       "  </thead>\n",
       "  <tbody>\n",
       "    <tr>\n",
       "      <th>0</th>\n",
       "      <td>[0.974288878199901, 0.22371207323461595]</td>\n",
       "      <td>[0.8836587850300484, 0.6197227214380366]</td>\n",
       "      <td>[0.7674293379554623, 0.49828880972492906]</td>\n",
       "    </tr>\n",
       "    <tr>\n",
       "      <th>1</th>\n",
       "      <td>[0.3157049702543623, 0.7028661142702846]</td>\n",
       "      <td>[0.9835903686580377, 0.5402723405440685]</td>\n",
       "      <td>[0.0380520615561174, 0.9859644469289924]</td>\n",
       "    </tr>\n",
       "  </tbody>\n",
       "</table>\n",
       "</div>"
      ],
      "text/plain": [
       "                                          0  \\\n",
       "0  [0.974288878199901, 0.22371207323461595]   \n",
       "1  [0.3157049702543623, 0.7028661142702846]   \n",
       "\n",
       "                                          1  \\\n",
       "0  [0.8836587850300484, 0.6197227214380366]   \n",
       "1  [0.9835903686580377, 0.5402723405440685]   \n",
       "\n",
       "                                           2  \n",
       "0  [0.7674293379554623, 0.49828880972492906]  \n",
       "1   [0.0380520615561174, 0.9859644469289924]  "
      ]
     },
     "execution_count": 10,
     "metadata": {},
     "output_type": "execute_result"
    }
   ],
   "source": [
    "df = pd.DataFrame(SOA)\n",
    "df.header = 'Cascade'\n",
    "df"
   ]
  },
  {
   "cell_type": "code",
   "execution_count": 41,
   "metadata": {},
   "outputs": [
    {
     "name": "stdout",
     "output_type": "stream",
     "text": [
      "   0  1  2\n",
      "0  1  2  3\n",
      "1  4  5  6\n"
     ]
    }
   ],
   "source": [
    "c1 = np.array([1,2,3])\n",
    "\n",
    "c2 = np.array([4,5,6])\n",
    "\n",
    "c = np.array\n",
    "\n",
    "c = np.vstack(([1, 2, 3], c2))\n",
    "\n",
    "df = pd.DataFrame(c, index = None)\n",
    "\n",
    "print(df)"
   ]
  },
  {
   "cell_type": "code",
   "execution_count": 9,
   "metadata": {},
   "outputs": [],
   "source": [
    "num_points = 10\n",
    "init_OP = np.zeros(num_points) # initial drive signal (e.g. a step)\n",
    "init_OP[:int(0.25*num_points)],init_OP[int(0.25*num_points):] = -1, 0.5\n",
    "\n",
    "init_OP = np.tile(init_OP, (2, 1))\n"
   ]
  },
  {
   "cell_type": "code",
   "execution_count": 18,
   "metadata": {},
   "outputs": [
    {
     "name": "stdout",
     "output_type": "stream",
     "text": [
      "0\n",
      "1\n"
     ]
    }
   ],
   "source": [
    "x = [1, 2, 3, 4]\n",
    "SOA_x = np.tile(x, (2,1))"
   ]
  },
  {
   "cell_type": "code",
   "execution_count": 17,
   "metadata": {},
   "outputs": [
    {
     "data": {
      "text/plain": [
       "2"
      ]
     },
     "execution_count": 17,
     "metadata": {},
     "output_type": "execute_result"
    }
   ],
   "source": [
    "SOA_x[0][1]"
   ]
  },
  {
   "cell_type": "code",
   "execution_count": 13,
   "metadata": {},
   "outputs": [
    {
     "data": {
      "text/plain": [
       "array([[0., 2.],\n",
       "       [0., 0.],\n",
       "       [0., 0.]])"
      ]
     },
     "execution_count": 13,
     "metadata": {},
     "output_type": "execute_result"
    }
   ],
   "source": [
    "gbest = np.zeros((3, 2))\n",
    "gbest[0,1] = 2\n",
    "gbest\n",
    "gb = [i[1] for i in gbest]\n",
    "gbest\n",
    "gb2 = np.zeros((3,2))\n",
    "\n",
    "gb2 = np.copy(gbest)\n",
    "gb2"
   ]
  },
  {
   "cell_type": "code",
   "execution_count": null,
   "metadata": {},
   "outputs": [],
   "source": []
  },
  {
   "cell_type": "code",
   "execution_count": 8,
   "metadata": {},
   "outputs": [
    {
     "data": {
      "text/plain": [
       "3"
      ]
     },
     "execution_count": 8,
     "metadata": {},
     "output_type": "execute_result"
    }
   ],
   "source": [
    "c1 = np.ones((3, 5))\n",
    "c1[2,4] = 2\n",
    "c1 = 3\n",
    "c1"
   ]
  },
  {
   "cell_type": "code",
   "execution_count": 5,
   "metadata": {},
   "outputs": [
    {
     "data": {
      "text/plain": [
       "[0.7912684038134142,\n",
       " 0.4451474983494157,\n",
       " 0.6232081942693972,\n",
       " 0.5837631096222952,\n",
       " 0.09044440530740461,\n",
       " 0.0664979668910084,\n",
       " 0.8806408093645625,\n",
       " 0.4156781380946717,\n",
       " 0.29087500383029485,\n",
       " 0.7363663549328994]"
      ]
     },
     "execution_count": 5,
     "metadata": {},
     "output_type": "execute_result"
    }
   ],
   "source": [
    "from numpy import random\n",
    "\n",
    "res = []\n",
    "\n",
    "for i in range(5):\n",
    "        res.append(random.random())\n",
    "        res.append(random.random())\n",
    "\n",
    "res"
   ]
  },
  {
   "cell_type": "code",
   "execution_count": 22,
   "metadata": {},
   "outputs": [
    {
     "data": {
      "text/plain": [
       "array([[0., 0.],\n",
       "       [0., 0.],\n",
       "       [0., 0.],\n",
       "       [0., 0.],\n",
       "       [0., 0.]])"
      ]
     },
     "execution_count": 22,
     "metadata": {},
     "output_type": "execute_result"
    }
   ],
   "source": [
    "a = np.zeros((5,2))\n",
    "\n",
    "tmp = np.copy(a)\n",
    "\n",
    "inc = 0\n",
    "\n",
    "a2 = np.tile(a,2)\n",
    "a"
   ]
  },
  {
   "cell_type": "code",
   "execution_count": 5,
   "metadata": {},
   "outputs": [
    {
     "data": {
      "text/plain": [
       "array([[ 1,  1,  3],\n",
       "       [ 1,  5,  5],\n",
       "       [ 3,  5, 11]])"
      ]
     },
     "execution_count": 5,
     "metadata": {},
     "output_type": "execute_result"
    }
   ],
   "source": [
    "a = np.array([[1, 0, 0], [1, 2, 0], [3, 1, 1]])\n",
    "b = np.transpose(a)\n",
    "\n",
    "np.matmul(a,b)"
   ]
  },
  {
   "cell_type": "code",
   "execution_count": 39,
   "metadata": {},
   "outputs": [
    {
     "data": {
      "text/plain": [
       "array([ 7.5,  1. , -2.5])"
      ]
     },
     "execution_count": 39,
     "metadata": {},
     "output_type": "execute_result"
    }
   ],
   "source": [
    "from numpy import linalg as LA\n",
    "from numpy.linalg import inv\n",
    "\n",
    "L = np.array([[1, 0, 0], [1, 2, 0], [3, 1, 1]])\n",
    "\n",
    "normalized_v = v / np.sqrt(np.sum(v**2))\n",
    "LA.norm(normalized_v)\n",
    "normalized_v\n",
    "\n",
    "x = np.array([1, 0 ,0])\n",
    "\n",
    "z= np.matmul(inv(L), x)\n",
    "\n",
    "x1 = np.matmul(inv(np.transpose(L)), z)\n",
    "\n",
    "x1\n",
    "\n",
    "norm_x = x / np.sqrt(np.sum(x**2))\n",
    "\n",
    "norm\n"
   ]
  }
 ],
 "metadata": {
  "kernelspec": {
   "display_name": "Python 3",
   "language": "python",
   "name": "python3"
  },
  "language_info": {
   "codemirror_mode": {
    "name": "ipython",
    "version": 3
   },
   "file_extension": ".py",
   "mimetype": "text/x-python",
   "name": "python",
   "nbconvert_exporter": "python",
   "pygments_lexer": "ipython3",
   "version": "3.9.0"
  }
 },
 "nbformat": 4,
 "nbformat_minor": 4
}
