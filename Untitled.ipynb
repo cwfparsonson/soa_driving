{
 "cells": [
  {
   "cell_type": "code",
   "execution_count": 71,
   "metadata": {},
   "outputs": [
    {
     "data": {
      "text/plain": [
       "(array([0.55, 0.54, 0.56, 0.6 , 0.62, 0.64]),\n",
       " array([1.1 , 1.08, 0.56, 1.2 , 0.62, 1.28]))"
      ]
     },
     "execution_count": 71,
     "metadata": {},
     "output_type": "execute_result"
    }
   ],
   "source": [
    "import numpy as np\n",
    "import random\n",
    "\n",
    "x = np.array([0.25, 0.2, 0.3, 0.5, 0.6, 0.7])\n",
    "z1 = np.interp(x, [-2.5, 2.5], [0, 1])\n",
    "conds = [z < 0.5, z >= 0.5, z == 0]\n",
    "funcs = [lambda z: tent1(z), lambda z: tent2(z), lambda z: z + random.uniform(0,1)]\n",
    "\n",
    "p = 0.5\n",
    "\n",
    "def tent1(x):\n",
    "    if random.uniform(0,1) < p:\n",
    "        return 2*x\n",
    "    else:\n",
    "        return x\n",
    "def tent2(x):\n",
    "    if random.uniform(0,1) < p:\n",
    "        return 2*(1-x)\n",
    "    else: \n",
    "        return x\n",
    "z2 = np.piecewise(z1, conds, funcs)\n",
    "output = []\n",
    "for _ in range(20):\n",
    "    # Map to interval [0, 1]\n",
    "    z = np.interp(x, [-2.5, 2.5], [0, 1])\n",
    "    \n",
    "    conds = [z < 0.5, z >= 0.5, z == 0]\n",
    "    funcs = [lambda z: tent1(z), lambda z: tent2(z), lambda z: z + random.uniform(0,1)]\n",
    "    \n",
    "    # Tent Mapping\n",
    "    z = np.piecewise(z,conds, funcs)\n",
    "\n",
    "    # Map to original interval\n",
    "    x = np.interp(z, [0, 1], [-2.5, 2.5])\n",
    "    \n",
    "    output.append(z)\n",
    "(z1,z2)"
   ]
  },
  {
   "cell_type": "code",
   "execution_count": 69,
   "metadata": {},
   "outputs": [
    {
     "data": {
      "text/plain": [
       "array([[1, 2, 3],\n",
       "       [4, 5, 6]])"
      ]
     },
     "execution_count": 69,
     "metadata": {},
     "output_type": "execute_result"
    }
   ],
   "source": [
    "import numpy as np\n",
    "import random\n",
    "a = np.array([[1,2,3], [4,5,6]])\n",
    "\n",
    "random.choice(a)[2]\n",
    "a"
   ]
  }
 ],
 "metadata": {
  "kernelspec": {
   "display_name": "Python 3",
   "language": "python",
   "name": "python3"
  },
  "language_info": {
   "codemirror_mode": {
    "name": "ipython",
    "version": 3
   },
   "file_extension": ".py",
   "mimetype": "text/x-python",
   "name": "python",
   "nbconvert_exporter": "python",
   "pygments_lexer": "ipython3",
   "version": "3.9.0"
  }
 },
 "nbformat": 4,
 "nbformat_minor": 4
}
